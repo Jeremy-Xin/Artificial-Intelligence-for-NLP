{
 "cells": [
  {
   "cell_type": "code",
   "execution_count": 1,
   "metadata": {},
   "outputs": [],
   "source": [
    "from collections import defaultdict"
   ]
  },
  {
   "cell_type": "code",
   "execution_count": 2,
   "metadata": {},
   "outputs": [],
   "source": [
    "from functools import lru_cache"
   ]
  },
  {
   "cell_type": "code",
   "execution_count": 3,
   "metadata": {},
   "outputs": [],
   "source": [
    "prices = defaultdict(lambda: -float('inf'))"
   ]
  },
  {
   "cell_type": "code",
   "execution_count": 4,
   "metadata": {},
   "outputs": [],
   "source": [
    "for i, v in enumerate([1, 5, 8, 9, 10, 17, 17, 20, 24, 30]):\n",
    "    prices[i + 1] = v"
   ]
  },
  {
   "cell_type": "code",
   "execution_count": 5,
   "metadata": {},
   "outputs": [],
   "source": [
    "solution = {}\n",
    "\n",
    "@lru_cache(500)\n",
    "def revenue(r):\n",
    "    split, r_star = max([(0, prices[r])] + [(i, revenue(i) + revenue(r - i)) for i in range(1, r)], key=lambda x: x[1])\n",
    "    solution[r] = split, r - split\n",
    "    return r_star"
   ]
  },
  {
   "cell_type": "code",
   "execution_count": 6,
   "metadata": {},
   "outputs": [
    {
     "data": {
      "text/plain": [
       "300"
      ]
     },
     "execution_count": 6,
     "metadata": {},
     "output_type": "execute_result"
    }
   ],
   "source": [
    "revenue(100)"
   ]
  },
  {
   "cell_type": "code",
   "execution_count": 7,
   "metadata": {},
   "outputs": [],
   "source": [
    "def parse_solution(r, solution):\n",
    "    left, right = solution[r]\n",
    "    if left == 0:\n",
    "        return [right]\n",
    "    return [left] + parse_solution(right, solution)\n",
    "    "
   ]
  },
  {
   "cell_type": "code",
   "execution_count": 8,
   "metadata": {},
   "outputs": [],
   "source": [
    "def pretty_solution(splits):\n",
    "    return ' -> '.join(map(str, splits))"
   ]
  },
  {
   "cell_type": "code",
   "execution_count": 9,
   "metadata": {},
   "outputs": [
    {
     "data": {
      "text/plain": [
       "'1 -> 6 -> 10 -> 10 -> 10 -> 10 -> 10'"
      ]
     },
     "execution_count": 9,
     "metadata": {},
     "output_type": "execute_result"
    }
   ],
   "source": [
    "pretty_solution(parse_solution(57, solution))"
   ]
  },
  {
   "cell_type": "code",
   "execution_count": 10,
   "metadata": {},
   "outputs": [],
   "source": [
    "from functools import wraps"
   ]
  },
  {
   "cell_type": "code",
   "execution_count": 11,
   "metadata": {},
   "outputs": [],
   "source": [
    "def memo(func):\n",
    "    cache = {}\n",
    "    @wraps(func)\n",
    "    def wrapper(*args, **kwargs):\n",
    "        str_key = str(args) + str(kwargs)\n",
    "        if str_key not in cache:\n",
    "            cache[str_key] = func(*args, **kwargs)\n",
    "        return cache[str_key]\n",
    "    return wrapper"
   ]
  },
  {
   "cell_type": "code",
   "execution_count": 12,
   "metadata": {},
   "outputs": [],
   "source": [
    "@memo\n",
    "def get_edit_distance(string1, string2):\n",
    "    if len(string1) == 0:\n",
    "        return len(string2)\n",
    "    if len(string2) == 0:\n",
    "        return len(string1)\n",
    "    \n",
    "    return min(\n",
    "        [get_edit_distance(string1[:-1], string2) + 1,\n",
    "         get_edit_distance(string1, string2[:-1]) + 1,\n",
    "         get_edit_distance(string1[:-1], string2[:-1]) + (0 if string1[-1] == string2[-1] else 2)]\n",
    "    )"
   ]
  },
  {
   "cell_type": "code",
   "execution_count": 13,
   "metadata": {},
   "outputs": [
    {
     "data": {
      "text/plain": [
       "2"
      ]
     },
     "execution_count": 13,
     "metadata": {},
     "output_type": "execute_result"
    }
   ],
   "source": [
    "get_edit_distance('biejing', 'beijing')"
   ]
  },
  {
   "cell_type": "code",
   "execution_count": 14,
   "metadata": {},
   "outputs": [
    {
     "data": {
      "text/plain": [
       "5"
      ]
     },
     "execution_count": 14,
     "metadata": {},
     "output_type": "execute_result"
    }
   ],
   "source": [
    "get_edit_distance('biejing', 'beijie')"
   ]
  },
  {
   "cell_type": "code",
   "execution_count": 38,
   "metadata": {},
   "outputs": [],
   "source": [
    "@memo\n",
    "def get_edit_distance_trace(string1, string2, solution):\n",
    "    if len(string1) == 0:\n",
    "        return len(string2)\n",
    "    if len(string2) == 0:\n",
    "        return len(string1)\n",
    "    \n",
    "    come_from1, come_from2, result =  min(\n",
    "        [(len(string1)-1, len(string2), get_edit_distance_trace(string1[:-1], string2, solution) + 1),\n",
    "         (len(string1), len(string2)-1, get_edit_distance_trace(string1, string2[:-1], solution) + 1),\n",
    "         (len(string1)-1, len(string2)-1, get_edit_distance_trace(string1[:-1], string2[:-1], solution) + (0 if string1[-1] == string2[-1] else 2))],\n",
    "        key=lambda x: x[2]\n",
    "    )\n",
    "    solution[len(string1), len(string2)] = come_from1, come_from2, result\n",
    "    return result\n",
    "\n"
   ]
  },
  {
   "cell_type": "code",
   "execution_count": 39,
   "metadata": {},
   "outputs": [],
   "source": [
    "def parse_solution(string1, string2, solution, result):\n",
    "    cur = string1\n",
    "    s = [cur]\n",
    "    l1, l2, r = len(string1), len(string2), result\n",
    "    while l1 > 0 or l2 > 0:\n",
    "        newl1, newl2, r = solution[l1, l2]\n",
    "        if r == 0:\n",
    "            return s\n",
    "        if newl1 < l1 and newl2 < l2:\n",
    "            pass\n",
    "        elif newl1 < l1:\n",
    "            cur = cur[:newl1] + cur[newl1+1:]\n",
    "            s.append(cur)\n",
    "        else:\n",
    "            cur = cur[:newl2] + string2[newl2] + cur[newl2:]\n",
    "            s.append(cur)\n",
    "        l1, l2 = newl1, newl2\n",
    "    return s"
   ]
  },
  {
   "cell_type": "code",
   "execution_count": 40,
   "metadata": {},
   "outputs": [
    {
     "name": "stdout",
     "output_type": "stream",
     "text": [
      "8\n"
     ]
    },
    {
     "data": {
      "text/plain": [
       "'beijinghello -> beijinghell -> beijinghll -> beijinhll -> beijihll -> beijihell -> beijiehell -> bejiehell -> biejiehell'"
      ]
     },
     "execution_count": 40,
     "metadata": {},
     "output_type": "execute_result"
    }
   ],
   "source": [
    "solution1 = {}\n",
    "word1 = 'beijinghello'\n",
    "word2 = 'biejieehll'\n",
    "result = get_edit_distance_trace(word1, word2, solution1)\n",
    "print(result)\n",
    "sol = parse_solution(word1, word2, solution1, result)\n",
    "pretty_solution(sol)"
   ]
  },
  {
   "cell_type": "code",
   "execution_count": null,
   "metadata": {},
   "outputs": [],
   "source": []
  },
  {
   "cell_type": "code",
   "execution_count": null,
   "metadata": {},
   "outputs": [],
   "source": []
  }
 ],
 "metadata": {
  "kernelspec": {
   "display_name": "Python 3",
   "language": "python",
   "name": "python3"
  },
  "language_info": {
   "codemirror_mode": {
    "name": "ipython",
    "version": 3
   },
   "file_extension": ".py",
   "mimetype": "text/x-python",
   "name": "python",
   "nbconvert_exporter": "python",
   "pygments_lexer": "ipython3",
   "version": "3.6.2"
  }
 },
 "nbformat": 4,
 "nbformat_minor": 2
}
